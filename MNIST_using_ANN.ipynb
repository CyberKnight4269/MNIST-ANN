{
  "nbformat": 4,
  "nbformat_minor": 0,
  "metadata": {
    "colab": {
      "provenance": [],
      "gpuType": "T4",
      "mount_file_id": "1EI5sOho5Whdng9fU-mhr9d14dm0PFee8",
      "authorship_tag": "ABX9TyP9e49NVb0ADz7ipisn9/CX",
      "include_colab_link": true
    },
    "kernelspec": {
      "name": "python3",
      "display_name": "Python 3"
    },
    "language_info": {
      "name": "python"
    },
    "accelerator": "GPU"
  },
  "cells": [
    {
      "cell_type": "markdown",
      "metadata": {
        "id": "view-in-github",
        "colab_type": "text"
      },
      "source": [
        "<a href=\"https://colab.research.google.com/github/CyberKnight4269/MNIST-ANN/blob/main/MNIST_using_ANN.ipynb\" target=\"_parent\"><img src=\"https://colab.research.google.com/assets/colab-badge.svg\" alt=\"Open In Colab\"/></a>"
      ]
    },
    {
      "cell_type": "code",
      "execution_count": null,
      "metadata": {
        "id": "WEeO-XvFB5Kn"
      },
      "outputs": [],
      "source": [
        "import pandas as pd\n",
        "import numpy as np\n",
        "import matplotlib.pyplot as plt\n",
        "import tensorflow as tf"
      ]
    },
    {
      "cell_type": "code",
      "source": [
        "print(tf.__version__)"
      ],
      "metadata": {
        "colab": {
          "base_uri": "https://localhost:8080/"
        },
        "id": "EtfKN8vOZyRV",
        "outputId": "0888956a-2a1f-49ea-b92a-c03ec10b4c9b"
      },
      "execution_count": null,
      "outputs": [
        {
          "output_type": "stream",
          "name": "stdout",
          "text": [
            "2.18.0\n"
          ]
        }
      ]
    },
    {
      "cell_type": "code",
      "source": [
        "train = pd.read_csv('/content/drive/MyDrive/Datasets/mnist_train.csv')\n",
        "test = pd.read_csv('/content/drive/MyDrive/Datasets/mnist_test.csv')\n",
        "print(train.shape, test.shape)"
      ],
      "metadata": {
        "colab": {
          "base_uri": "https://localhost:8080/"
        },
        "id": "tJrw4QpMCY1u",
        "outputId": "6d01af48-91ed-4087-be70-3ffb464e2446"
      },
      "execution_count": null,
      "outputs": [
        {
          "output_type": "stream",
          "name": "stdout",
          "text": [
            "(60000, 785) (10000, 785)\n"
          ]
        }
      ]
    },
    {
      "cell_type": "code",
      "source": [
        "x_train = train.iloc[:,1:]\n",
        "y_train = train['label']\n",
        "x_test = test.iloc[:,1:]\n",
        "y_test = test['label']\n",
        "print(x_train.shape, y_train.shape, x_test.shape, y_test.shape)"
      ],
      "metadata": {
        "colab": {
          "base_uri": "https://localhost:8080/"
        },
        "id": "dCjVzqJdCt1D",
        "outputId": "d39e24c2-da4b-4081-d27e-b120d1cd04cc"
      },
      "execution_count": null,
      "outputs": [
        {
          "output_type": "stream",
          "name": "stdout",
          "text": [
            "(60000, 784) (60000,) (10000, 784) (10000,)\n"
          ]
        }
      ]
    },
    {
      "cell_type": "code",
      "source": [
        "y_test.value_counts()"
      ],
      "metadata": {
        "colab": {
          "base_uri": "https://localhost:8080/",
          "height": 429
        },
        "id": "BhWJN6dEimh7",
        "outputId": "3ff5ee9f-531e-4fe2-da18-774048e7e794"
      },
      "execution_count": null,
      "outputs": [
        {
          "output_type": "execute_result",
          "data": {
            "text/plain": [
              "label\n",
              "1    1135\n",
              "2    1032\n",
              "7    1028\n",
              "3    1010\n",
              "9    1009\n",
              "4     982\n",
              "0     980\n",
              "8     974\n",
              "6     958\n",
              "5     892\n",
              "Name: count, dtype: int64"
            ],
            "text/html": [
              "<div>\n",
              "<style scoped>\n",
              "    .dataframe tbody tr th:only-of-type {\n",
              "        vertical-align: middle;\n",
              "    }\n",
              "\n",
              "    .dataframe tbody tr th {\n",
              "        vertical-align: top;\n",
              "    }\n",
              "\n",
              "    .dataframe thead th {\n",
              "        text-align: right;\n",
              "    }\n",
              "</style>\n",
              "<table border=\"1\" class=\"dataframe\">\n",
              "  <thead>\n",
              "    <tr style=\"text-align: right;\">\n",
              "      <th></th>\n",
              "      <th>count</th>\n",
              "    </tr>\n",
              "    <tr>\n",
              "      <th>label</th>\n",
              "      <th></th>\n",
              "    </tr>\n",
              "  </thead>\n",
              "  <tbody>\n",
              "    <tr>\n",
              "      <th>1</th>\n",
              "      <td>1135</td>\n",
              "    </tr>\n",
              "    <tr>\n",
              "      <th>2</th>\n",
              "      <td>1032</td>\n",
              "    </tr>\n",
              "    <tr>\n",
              "      <th>7</th>\n",
              "      <td>1028</td>\n",
              "    </tr>\n",
              "    <tr>\n",
              "      <th>3</th>\n",
              "      <td>1010</td>\n",
              "    </tr>\n",
              "    <tr>\n",
              "      <th>9</th>\n",
              "      <td>1009</td>\n",
              "    </tr>\n",
              "    <tr>\n",
              "      <th>4</th>\n",
              "      <td>982</td>\n",
              "    </tr>\n",
              "    <tr>\n",
              "      <th>0</th>\n",
              "      <td>980</td>\n",
              "    </tr>\n",
              "    <tr>\n",
              "      <th>8</th>\n",
              "      <td>974</td>\n",
              "    </tr>\n",
              "    <tr>\n",
              "      <th>6</th>\n",
              "      <td>958</td>\n",
              "    </tr>\n",
              "    <tr>\n",
              "      <th>5</th>\n",
              "      <td>892</td>\n",
              "    </tr>\n",
              "  </tbody>\n",
              "</table>\n",
              "</div><br><label><b>dtype:</b> int64</label>"
            ]
          },
          "metadata": {},
          "execution_count": 5
        }
      ]
    },
    {
      "cell_type": "markdown",
      "source": [
        "#Creating the Artificial Neural Network"
      ],
      "metadata": {
        "id": "NkjacfXxkHiv"
      }
    },
    {
      "cell_type": "code",
      "source": [
        "from tensorflow.keras.models import Sequential\n",
        "from tensorflow.keras.layers import Dense\n",
        "from tensorflow.keras.layers import LeakyReLU, PReLU, ELU, ReLU\n",
        "from tensorflow.keras.layers import Dropout"
      ],
      "metadata": {
        "id": "ojA5zcUgjX7j"
      },
      "execution_count": null,
      "outputs": []
    },
    {
      "cell_type": "code",
      "source": [
        "classifier = Sequential()"
      ],
      "metadata": {
        "id": "bsOEsRKUjwji"
      },
      "execution_count": null,
      "outputs": []
    },
    {
      "cell_type": "code",
      "source": [
        "tf.keras.backend.clear_session()"
      ],
      "metadata": {
        "id": "iDl6wGQhyfIz"
      },
      "execution_count": null,
      "outputs": []
    },
    {
      "cell_type": "markdown",
      "source": [
        "Adding the input layer"
      ],
      "metadata": {
        "id": "NL6XDqb5kibJ"
      }
    },
    {
      "cell_type": "code",
      "source": [
        "classifier.add(Dense(units=784, activation='relu'))"
      ],
      "metadata": {
        "id": "A-CDeVUpkg_D"
      },
      "execution_count": null,
      "outputs": []
    },
    {
      "cell_type": "markdown",
      "source": [
        "Adding the first hidden layer"
      ],
      "metadata": {
        "id": "y2DE8nAZmbDn"
      }
    },
    {
      "cell_type": "code",
      "source": [
        "classifier.add(Dense(units=100, activation='relu'))"
      ],
      "metadata": {
        "id": "S4h8Xjj3maPq"
      },
      "execution_count": null,
      "outputs": []
    },
    {
      "cell_type": "markdown",
      "source": [
        "Adding the second hidden layer"
      ],
      "metadata": {
        "id": "-aVSDhUHmsR-"
      }
    },
    {
      "cell_type": "code",
      "source": [
        "classifier.add(Dense(units=50, activation='relu'))"
      ],
      "metadata": {
        "id": "9MmTyArLmr3q"
      },
      "execution_count": null,
      "outputs": []
    },
    {
      "cell_type": "markdown",
      "source": [
        "Adding the output layer"
      ],
      "metadata": {
        "id": "WhpF5hbsm11u"
      }
    },
    {
      "cell_type": "code",
      "source": [
        "classifier.add(Dense(units=10, activation='softmax'))"
      ],
      "metadata": {
        "id": "EhZjn13tm1Vz"
      },
      "execution_count": null,
      "outputs": []
    },
    {
      "cell_type": "code",
      "source": [
        "classifier.compile(optimizer='adam', loss='sparse_categorical_crossentropy', metrics=['accuracy'])"
      ],
      "metadata": {
        "id": "SxtRI0sFm-1-"
      },
      "execution_count": null,
      "outputs": []
    },
    {
      "cell_type": "markdown",
      "source": [
        "#Early Stopping"
      ],
      "metadata": {
        "id": "VVTOkctqncMC"
      }
    },
    {
      "cell_type": "code",
      "source": [
        "early_stopping = tf.keras.callbacks.EarlyStopping(\n",
        "    monitor=\"val_loss\",\n",
        "    min_delta=0.0001,\n",
        "    patience=20,\n",
        "    verbose=1,\n",
        "    mode=\"auto\",\n",
        "    baseline=None,\n",
        "    restore_best_weights=False,\n",
        "    start_from_epoch=5,\n",
        ")"
      ],
      "metadata": {
        "id": "l5rpMSSMnB4A"
      },
      "execution_count": null,
      "outputs": []
    },
    {
      "cell_type": "code",
      "source": [
        "import numpy as np\n",
        "x_train = np.array(x_train)\n",
        "y_train = np.array(y_train)"
      ],
      "metadata": {
        "id": "N7DWsOGz0dnZ"
      },
      "execution_count": null,
      "outputs": []
    },
    {
      "cell_type": "code",
      "source": [
        "model_history = classifier.fit(x_train, y_train, batch_size=100, epochs=600, callbacks=early_stopping, validation_split=0.2)"
      ],
      "metadata": {
        "colab": {
          "base_uri": "https://localhost:8080/"
        },
        "id": "UcWJD37wo5mf",
        "outputId": "bad7b10a-a701-483a-bbd4-dd98f891bdc6"
      },
      "execution_count": null,
      "outputs": [
        {
          "output_type": "stream",
          "name": "stdout",
          "text": [
            "Epoch 1/600\n",
            "\u001b[1m480/480\u001b[0m \u001b[32m━━━━━━━━━━━━━━━━━━━━\u001b[0m\u001b[37m\u001b[0m \u001b[1m13s\u001b[0m 21ms/step - accuracy: 0.7987 - loss: 4.8507 - val_accuracy: 0.9273 - val_loss: 0.3374\n",
            "Epoch 2/600\n",
            "\u001b[1m480/480\u001b[0m \u001b[32m━━━━━━━━━━━━━━━━━━━━\u001b[0m\u001b[37m\u001b[0m \u001b[1m22s\u001b[0m 24ms/step - accuracy: 0.9404 - loss: 0.2606 - val_accuracy: 0.9482 - val_loss: 0.2280\n",
            "Epoch 3/600\n",
            "\u001b[1m480/480\u001b[0m \u001b[32m━━━━━━━━━━━━━━━━━━━━\u001b[0m\u001b[37m\u001b[0m \u001b[1m16s\u001b[0m 33ms/step - accuracy: 0.9594 - loss: 0.1526 - val_accuracy: 0.9457 - val_loss: 0.2178\n",
            "Epoch 4/600\n",
            "\u001b[1m480/480\u001b[0m \u001b[32m━━━━━━━━━━━━━━━━━━━━\u001b[0m\u001b[37m\u001b[0m \u001b[1m17s\u001b[0m 25ms/step - accuracy: 0.9685 - loss: 0.1141 - val_accuracy: 0.9588 - val_loss: 0.1733\n",
            "Epoch 5/600\n",
            "\u001b[1m480/480\u001b[0m \u001b[32m━━━━━━━━━━━━━━━━━━━━\u001b[0m\u001b[37m\u001b[0m \u001b[1m13s\u001b[0m 27ms/step - accuracy: 0.9747 - loss: 0.0897 - val_accuracy: 0.9647 - val_loss: 0.1611\n",
            "Epoch 6/600\n",
            "\u001b[1m480/480\u001b[0m \u001b[32m━━━━━━━━━━━━━━━━━━━━\u001b[0m\u001b[37m\u001b[0m \u001b[1m19s\u001b[0m 24ms/step - accuracy: 0.9777 - loss: 0.0812 - val_accuracy: 0.9525 - val_loss: 0.2202\n",
            "Epoch 7/600\n",
            "\u001b[1m480/480\u001b[0m \u001b[32m━━━━━━━━━━━━━━━━━━━━\u001b[0m\u001b[37m\u001b[0m \u001b[1m11s\u001b[0m 22ms/step - accuracy: 0.9777 - loss: 0.0762 - val_accuracy: 0.9631 - val_loss: 0.1730\n",
            "Epoch 8/600\n",
            "\u001b[1m480/480\u001b[0m \u001b[32m━━━━━━━━━━━━━━━━━━━━\u001b[0m\u001b[37m\u001b[0m \u001b[1m19s\u001b[0m 18ms/step - accuracy: 0.9800 - loss: 0.0700 - val_accuracy: 0.9662 - val_loss: 0.1500\n",
            "Epoch 9/600\n",
            "\u001b[1m480/480\u001b[0m \u001b[32m━━━━━━━━━━━━━━━━━━━━\u001b[0m\u001b[37m\u001b[0m \u001b[1m12s\u001b[0m 22ms/step - accuracy: 0.9823 - loss: 0.0590 - val_accuracy: 0.9603 - val_loss: 0.1940\n",
            "Epoch 10/600\n",
            "\u001b[1m480/480\u001b[0m \u001b[32m━━━━━━━━━━━━━━━━━━━━\u001b[0m\u001b[37m\u001b[0m \u001b[1m22s\u001b[0m 25ms/step - accuracy: 0.9818 - loss: 0.0653 - val_accuracy: 0.9681 - val_loss: 0.1484\n",
            "Epoch 11/600\n",
            "\u001b[1m480/480\u001b[0m \u001b[32m━━━━━━━━━━━━━━━━━━━━\u001b[0m\u001b[37m\u001b[0m \u001b[1m11s\u001b[0m 22ms/step - accuracy: 0.9832 - loss: 0.0560 - val_accuracy: 0.9647 - val_loss: 0.1617\n",
            "Epoch 12/600\n",
            "\u001b[1m480/480\u001b[0m \u001b[32m━━━━━━━━━━━━━━━━━━━━\u001b[0m\u001b[37m\u001b[0m \u001b[1m21s\u001b[0m 24ms/step - accuracy: 0.9842 - loss: 0.0536 - val_accuracy: 0.9704 - val_loss: 0.1421\n",
            "Epoch 13/600\n",
            "\u001b[1m480/480\u001b[0m \u001b[32m━━━━━━━━━━━━━━━━━━━━\u001b[0m\u001b[37m\u001b[0m \u001b[1m18s\u001b[0m 18ms/step - accuracy: 0.9863 - loss: 0.0461 - val_accuracy: 0.9712 - val_loss: 0.1454\n",
            "Epoch 14/600\n",
            "\u001b[1m480/480\u001b[0m \u001b[32m━━━━━━━━━━━━━━━━━━━━\u001b[0m\u001b[37m\u001b[0m \u001b[1m10s\u001b[0m 21ms/step - accuracy: 0.9881 - loss: 0.0438 - val_accuracy: 0.9620 - val_loss: 0.1947\n",
            "Epoch 15/600\n",
            "\u001b[1m480/480\u001b[0m \u001b[32m━━━━━━━━━━━━━━━━━━━━\u001b[0m\u001b[37m\u001b[0m \u001b[1m12s\u001b[0m 24ms/step - accuracy: 0.9857 - loss: 0.0534 - val_accuracy: 0.9716 - val_loss: 0.1510\n",
            "Epoch 16/600\n",
            "\u001b[1m480/480\u001b[0m \u001b[32m━━━━━━━━━━━━━━━━━━━━\u001b[0m\u001b[37m\u001b[0m \u001b[1m9s\u001b[0m 19ms/step - accuracy: 0.9893 - loss: 0.0396 - val_accuracy: 0.9704 - val_loss: 0.1543\n",
            "Epoch 17/600\n",
            "\u001b[1m480/480\u001b[0m \u001b[32m━━━━━━━━━━━━━━━━━━━━\u001b[0m\u001b[37m\u001b[0m \u001b[1m10s\u001b[0m 18ms/step - accuracy: 0.9894 - loss: 0.0349 - val_accuracy: 0.9673 - val_loss: 0.2011\n",
            "Epoch 18/600\n",
            "\u001b[1m480/480\u001b[0m \u001b[32m━━━━━━━━━━━━━━━━━━━━\u001b[0m\u001b[37m\u001b[0m \u001b[1m12s\u001b[0m 21ms/step - accuracy: 0.9885 - loss: 0.0391 - val_accuracy: 0.9688 - val_loss: 0.1886\n",
            "Epoch 19/600\n",
            "\u001b[1m480/480\u001b[0m \u001b[32m━━━━━━━━━━━━━━━━━━━━\u001b[0m\u001b[37m\u001b[0m \u001b[1m11s\u001b[0m 22ms/step - accuracy: 0.9903 - loss: 0.0373 - val_accuracy: 0.9727 - val_loss: 0.1576\n",
            "Epoch 20/600\n",
            "\u001b[1m480/480\u001b[0m \u001b[32m━━━━━━━━━━━━━━━━━━━━\u001b[0m\u001b[37m\u001b[0m \u001b[1m19s\u001b[0m 19ms/step - accuracy: 0.9928 - loss: 0.0275 - val_accuracy: 0.9707 - val_loss: 0.1819\n",
            "Epoch 21/600\n",
            "\u001b[1m480/480\u001b[0m \u001b[32m━━━━━━━━━━━━━━━━━━━━\u001b[0m\u001b[37m\u001b[0m \u001b[1m11s\u001b[0m 22ms/step - accuracy: 0.9900 - loss: 0.0366 - val_accuracy: 0.9704 - val_loss: 0.1674\n",
            "Epoch 22/600\n",
            "\u001b[1m480/480\u001b[0m \u001b[32m━━━━━━━━━━━━━━━━━━━━\u001b[0m\u001b[37m\u001b[0m \u001b[1m19s\u001b[0m 19ms/step - accuracy: 0.9947 - loss: 0.0191 - val_accuracy: 0.9689 - val_loss: 0.1567\n",
            "Epoch 23/600\n",
            "\u001b[1m480/480\u001b[0m \u001b[32m━━━━━━━━━━━━━━━━━━━━\u001b[0m\u001b[37m\u001b[0m \u001b[1m9s\u001b[0m 20ms/step - accuracy: 0.9923 - loss: 0.0261 - val_accuracy: 0.9741 - val_loss: 0.1560\n",
            "Epoch 24/600\n",
            "\u001b[1m480/480\u001b[0m \u001b[32m━━━━━━━━━━━━━━━━━━━━\u001b[0m\u001b[37m\u001b[0m \u001b[1m11s\u001b[0m 22ms/step - accuracy: 0.9928 - loss: 0.0292 - val_accuracy: 0.9747 - val_loss: 0.1585\n",
            "Epoch 25/600\n",
            "\u001b[1m480/480\u001b[0m \u001b[32m━━━━━━━━━━━━━━━━━━━━\u001b[0m\u001b[37m\u001b[0m \u001b[1m9s\u001b[0m 19ms/step - accuracy: 0.9937 - loss: 0.0266 - val_accuracy: 0.9705 - val_loss: 0.1911\n",
            "Epoch 26/600\n",
            "\u001b[1m480/480\u001b[0m \u001b[32m━━━━━━━━━━━━━━━━━━━━\u001b[0m\u001b[37m\u001b[0m \u001b[1m10s\u001b[0m 19ms/step - accuracy: 0.9931 - loss: 0.0260 - val_accuracy: 0.9690 - val_loss: 0.1923\n",
            "Epoch 27/600\n",
            "\u001b[1m480/480\u001b[0m \u001b[32m━━━━━━━━━━━━━━━━━━━━\u001b[0m\u001b[37m\u001b[0m \u001b[1m11s\u001b[0m 23ms/step - accuracy: 0.9942 - loss: 0.0190 - val_accuracy: 0.9733 - val_loss: 0.1625\n",
            "Epoch 28/600\n",
            "\u001b[1m480/480\u001b[0m \u001b[32m━━━━━━━━━━━━━━━━━━━━\u001b[0m\u001b[37m\u001b[0m \u001b[1m10s\u001b[0m 21ms/step - accuracy: 0.9919 - loss: 0.0319 - val_accuracy: 0.9757 - val_loss: 0.1447\n",
            "Epoch 29/600\n",
            "\u001b[1m480/480\u001b[0m \u001b[32m━━━━━━━━━━━━━━━━━━━━\u001b[0m\u001b[37m\u001b[0m \u001b[1m9s\u001b[0m 19ms/step - accuracy: 0.9963 - loss: 0.0143 - val_accuracy: 0.9754 - val_loss: 0.1468\n",
            "Epoch 30/600\n",
            "\u001b[1m480/480\u001b[0m \u001b[32m━━━━━━━━━━━━━━━━━━━━\u001b[0m\u001b[37m\u001b[0m \u001b[1m10s\u001b[0m 21ms/step - accuracy: 0.9966 - loss: 0.0134 - val_accuracy: 0.9752 - val_loss: 0.1603\n",
            "Epoch 31/600\n",
            "\u001b[1m480/480\u001b[0m \u001b[32m━━━━━━━━━━━━━━━━━━━━\u001b[0m\u001b[37m\u001b[0m \u001b[1m11s\u001b[0m 21ms/step - accuracy: 0.9946 - loss: 0.0193 - val_accuracy: 0.9733 - val_loss: 0.1655\n",
            "Epoch 32/600\n",
            "\u001b[1m480/480\u001b[0m \u001b[32m━━━━━━━━━━━━━━━━━━━━\u001b[0m\u001b[37m\u001b[0m \u001b[1m9s\u001b[0m 18ms/step - accuracy: 0.9944 - loss: 0.0196 - val_accuracy: 0.9762 - val_loss: 0.1660\n",
            "Epoch 32: early stopping\n"
          ]
        }
      ]
    },
    {
      "cell_type": "markdown",
      "source": [
        "#Summarizing history for accuracy"
      ],
      "metadata": {
        "id": "pTR6QQsN2V49"
      }
    },
    {
      "cell_type": "code",
      "source": [
        "plt.plot(model_history.history['accuracy'])\n",
        "plt.plot(model_history.history['val_accuracy'])\n",
        "plt.title('Model Accuracy')\n",
        "plt.ylabel('Accuracy')\n",
        "plt.xlabel('Epoch')\n",
        "plt.legend(['Train','Validation'], loc='upper left')\n",
        "plt.show()"
      ],
      "metadata": {
        "colab": {
          "base_uri": "https://localhost:8080/",
          "height": 472
        },
        "id": "jCiHb4WUqqBk",
        "outputId": "7f460379-ef34-47c5-a04e-deff52f66e9b"
      },
      "execution_count": null,
      "outputs": [
        {
          "output_type": "display_data",
          "data": {
            "text/plain": [
              "<Figure size 640x480 with 1 Axes>"
            ],
            "image/png": "[encoded data removed]"
          },
          "metadata": {}
        }
      ]
    },
    {
      "cell_type": "code",
      "source": [
        "plt.plot(model_history.history['loss'])\n",
        "plt.plot(model_history.history['val_loss'])\n",
        "plt.title('Model Loss')\n",
        "plt.ylabel('Loss')\n",
        "plt.xlabel('Epoch')\n",
        "plt.legend(['Train','Validation'], loc='upper left')\n",
        "plt.show()"
      ],
      "metadata": {
        "colab": {
          "base_uri": "https://localhost:8080/",
          "height": 472
        },
        "id": "6m8721g-2cHm",
        "outputId": "ebef9fea-d12b-44f3-fc9d-4a8f776f126b"
      },
      "execution_count": null,
      "outputs": [
        {
          "output_type": "display_data",
          "data": {
            "text/plain": [
              "<Figure size 640x480 with 1 Axes>"
            ],
            "image/png": "[encoded data removed]"
          },
          "metadata": {}
        }
      ]
    },
    {
      "cell_type": "markdown",
      "source": [
        "#Making the predictions"
      ],
      "metadata": {
        "id": "jLr5qRa12sJD"
      }
    },
    {
      "cell_type": "code",
      "source": [
        "predictions = classifier.predict(x_test)\n",
        "print(predictions.shape)"
      ],
      "metadata": {
        "colab": {
          "base_uri": "https://localhost:8080/"
        },
        "id": "TjSwGISC2irk",
        "outputId": "f8076d56-da5d-4d1c-aed7-92fee5869ac1"
      },
      "execution_count": null,
      "outputs": [
        {
          "output_type": "stream",
          "name": "stdout",
          "text": [
            "\u001b[1m313/313\u001b[0m \u001b[32m━━━━━━━━━━━━━━━━━━━━\u001b[0m\u001b[37m\u001b[0m \u001b[1m1s\u001b[0m 3ms/step\n",
            "(10000, 10)\n"
          ]
        }
      ]
    },
    {
      "cell_type": "code",
      "source": [
        "temp = []\n",
        "for i in predictions:\n",
        "  temp.append(np.argmax(i))"
      ],
      "metadata": {
        "id": "KehMXMQr3Xdf"
      },
      "execution_count": null,
      "outputs": []
    },
    {
      "cell_type": "markdown",
      "source": [
        "#Visualizing the predictions"
      ],
      "metadata": {
        "id": "PFD9XQzQ48vR"
      }
    },
    {
      "cell_type": "code",
      "source": [
        "x_test = np.array(x_test)"
      ],
      "metadata": {
        "id": "0I3uGEXN31xW"
      },
      "execution_count": null,
      "outputs": []
    },
    {
      "cell_type": "code",
      "source": [
        "plt.imshow(x_test[0].reshape(28, 28), cmap='gray')\n",
        "plt.title(f\"Predicted Label: {temp[0]}\")\n",
        "plt.axis('off')\n",
        "plt.show()"
      ],
      "metadata": {
        "colab": {
          "base_uri": "https://localhost:8080/",
          "height": 428
        },
        "id": "YIao33zU4wnb",
        "outputId": "90b969c0-6b65-46e3-ca88-f4582732a945"
      },
      "execution_count": null,
      "outputs": [
        {
          "output_type": "display_data",
          "data": {
            "text/plain": [
              "<Figure size 640x480 with 1 Axes>"
            ],
            "image/png": "[encoded data removed]"
          },
          "metadata": {}
        }
      ]
    },
    {
      "cell_type": "code",
      "source": [
        "from sklearn.metrics import accuracy_score\n",
        "score = accuracy_score(temp,y_test)\n",
        "print(score*100,\"%\")"
      ],
      "metadata": {
        "colab": {
          "base_uri": "https://localhost:8080/"
        },
        "id": "lh0dQoxh5oBA",
        "outputId": "225951e9-45d0-4b6b-c1f4-e819b99126ef"
      },
      "execution_count": null,
      "outputs": [
        {
          "output_type": "stream",
          "name": "stdout",
          "text": [
            "97.78999999999999 %\n"
          ]
        }
      ]
    },
    {
      "cell_type": "code",
      "source": [],
      "metadata": {
        "id": "8m4oJcJs5vDe"
      },
      "execution_count": null,
      "outputs": []
    }
  ]
}